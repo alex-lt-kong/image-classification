{
 "cells": [
  {
   "cell_type": "code",
   "execution_count": 1,
   "id": "925fce20-4a06-4f29-a9d3-4e432d2a41e0",
   "metadata": {},
   "outputs": [],
   "source": [
    "from tensorflow import keras\n",
    "from tensorflow.keras import layers\n",
    "\n",
    "import json\n",
    "import numpy as np\n",
    "import tensorflow as tf\n",
    "\n",
    "IMG_DIR = 'files/images-2cat'"
   ]
  },
  {
   "cell_type": "markdown",
   "id": "cd0c3e1b-7138-482b-af9e-04526688111e",
   "metadata": {},
   "source": [
    "Take a look at my poor little GPU ¯\\\\_(ツ)_/¯"
   ]
  },
  {
   "cell_type": "code",
   "execution_count": 2,
   "id": "4e350d87-1bd7-4ba8-9ff8-90fd1dab7c78",
   "metadata": {},
   "outputs": [
    {
     "name": "stdout",
     "output_type": "stream",
     "text": [
      "Thu Dec  9 22:29:00 2021       \n",
      "+-----------------------------------------------------------------------------+\n",
      "| NVIDIA-SMI 496.13       Driver Version: 496.13       CUDA Version: 11.5     |\n",
      "|-------------------------------+----------------------+----------------------+\n",
      "| GPU  Name            TCC/WDDM | Bus-Id        Disp.A | Volatile Uncorr. ECC |\n",
      "| Fan  Temp  Perf  Pwr:Usage/Cap|         Memory-Usage | GPU-Util  Compute M. |\n",
      "|                               |                      |               MIG M. |\n",
      "|===============================+======================+======================|\n",
      "|   0  NVIDIA GeForce ... WDDM  | 00000000:02:00.0 Off |                  N/A |\n",
      "| N/A   44C    P8    N/A /  N/A |     64MiB /  2048MiB |      0%      Default |\n",
      "|                               |                      |                  N/A |\n",
      "+-------------------------------+----------------------+----------------------+\n",
      "                                                                               \n",
      "+-----------------------------------------------------------------------------+\n",
      "| Processes:                                                                  |\n",
      "|  GPU   GI   CI        PID   Type   Process name                  GPU Memory |\n",
      "|        ID   ID                                                   Usage      |\n",
      "|=============================================================================|\n",
      "|  No running processes found                                                 |\n",
      "+-----------------------------------------------------------------------------+\n",
      "\n"
     ]
    }
   ],
   "source": [
    "from subprocess import Popen, PIPE\n",
    "\n",
    "process = Popen(['nvidia-smi'], stdout=PIPE)\n",
    "(output, err) = process.communicate()\n",
    "exit_code = process.wait()\n",
    "print(output.decode('utf8'))"
   ]
  },
  {
   "cell_type": "code",
   "execution_count": 3,
   "id": "a2705ad3-03cb-4484-a1c5-92de27c9bb7c",
   "metadata": {},
   "outputs": [
    {
     "data": {
      "text/plain": [
       "[PhysicalDevice(name='/physical_device:GPU:0', device_type='GPU')]"
      ]
     },
     "execution_count": 3,
     "metadata": {},
     "output_type": "execute_result"
    }
   ],
   "source": [
    "tf.config.list_physical_devices('GPU')"
   ]
  },
  {
   "cell_type": "code",
   "execution_count": 4,
   "id": "83675a09-0806-4d07-821c-a4ab8b996f78",
   "metadata": {},
   "outputs": [
    {
     "name": "stdout",
     "output_type": "stream",
     "text": [
      "Found 6531 files belonging to 2 classes.\n",
      "Using 4376 files for training.\n",
      "Found 6531 files belonging to 2 classes.\n",
      "Using 2155 files for validation.\n"
     ]
    }
   ],
   "source": [
    "seed = 666\n",
    "image_size = (256, 256)\n",
    "# Size to resize images to after they are read from disk.\n",
    "# Defaults to (256, 256). Since the pipeline processes batches\n",
    "# of images that must all have the same size, this must be provided. \n",
    "batch_size = 2\n",
    "\n",
    "validation_split=0.33\n",
    "# float between 0 and 1, fraction of data to reserve for validation. \n",
    "\n",
    "train_ds = tf.keras.preprocessing.image_dataset_from_directory(\n",
    "    directory=IMG_DIR,\n",
    "    validation_split=validation_split,\n",
    "    subset=\"training\",\n",
    "    seed=seed,\n",
    "    image_size=image_size,\n",
    "    batch_size=batch_size,\n",
    ")\n",
    "val_ds = tf.keras.preprocessing.image_dataset_from_directory(\n",
    "    directory=IMG_DIR,\n",
    "    validation_split=validation_split,\n",
    "    subset=\"validation\",\n",
    "    seed=seed,\n",
    "    image_size=image_size,\n",
    "    batch_size=batch_size,\n",
    ")"
   ]
  },
  {
   "cell_type": "code",
   "execution_count": 5,
   "id": "e636b943-f538-4229-96b8-28a98304269a",
   "metadata": {},
   "outputs": [],
   "source": [
    "# Visualize the data\n",
    "#import matplotlib.pyplot as plt\n",
    "\n",
    "#plt.figure(figsize=(20, 10))\n",
    "#for images, labels in train_ds.take(1):\n",
    "#    for i in range(8):\n",
    "#        ax = plt.subplot(1, 4, i + 1)\n",
    "#        plt.imshow(images[i].numpy().astype(\"uint8\"))\n",
    "#        plt.title(int(labels[i]))\n",
    "#        plt.axis(\"off\")"
   ]
  },
  {
   "cell_type": "code",
   "execution_count": 6,
   "id": "397d6677-bf4c-4404-9df8-b01f3c07dc9d",
   "metadata": {},
   "outputs": [],
   "source": [
    "train_ds = train_ds.prefetch(buffer_size=32)\n",
    "val_ds = val_ds.prefetch(buffer_size=32)"
   ]
  },
  {
   "cell_type": "code",
   "execution_count": 7,
   "id": "d0a55904-f91e-4804-8989-7f528968e857",
   "metadata": {},
   "outputs": [],
   "source": [
    "data_augmentation = keras.Sequential(\n",
    "    [\n",
    "        layers.RandomFlip(\"horizontal\"),\n",
    "        layers.RandomRotation(0.1),\n",
    "    ]\n",
    ")"
   ]
  },
  {
   "cell_type": "code",
   "execution_count": 15,
   "id": "fd508c96-7b83-44d6-b075-22a7261d072a",
   "metadata": {},
   "outputs": [],
   "source": [
    "def make_model(input_shape, num_classes):\n",
    "    inputs = keras.Input(shape=input_shape)\n",
    "\n",
    "    # Entry block\n",
    "    x = layers.Rescaling(1.0 / 255)(inputs)\n",
    "    \n",
    "    #x = layers.Conv2D(32, 3, strides=2, padding=\"same\")(x)\n",
    "    #x = layers.BatchNormalization()(x)\n",
    "    #x = layers.Activation(\"relu\")(x)\n",
    "\n",
    "    x = layers.Dense(128, activation=\"ReLU\")(x)\n",
    "    x = layers.GlobalAveragePooling2D()(x)\n",
    "    \n",
    "    outputs = layers.Dense(1, activation=\"sigmoid\")(x)\n",
    "    return keras.Model(inputs, outputs)\n",
    "\n",
    "\n",
    "model = make_model(input_shape=image_size + (3,), num_classes=2)"
   ]
  },
  {
   "cell_type": "code",
   "execution_count": 16,
   "id": "9288da54-a9e9-4b45-9a97-acceaa119fe2",
   "metadata": {},
   "outputs": [
    {
     "name": "stdout",
     "output_type": "stream",
     "text": [
      "Model: \"model_2\"\n",
      "_________________________________________________________________\n",
      " Layer (type)                Output Shape              Param #   \n",
      "=================================================================\n",
      " input_3 (InputLayer)        [(None, 256, 256, 3)]     0         \n",
      "                                                                 \n",
      " rescaling_2 (Rescaling)     (None, 256, 256, 3)       0         \n",
      "                                                                 \n",
      " dense_4 (Dense)             (None, 256, 256, 128)     512       \n",
      "                                                                 \n",
      " global_average_pooling2d_1   (None, 128)              0         \n",
      " (GlobalAveragePooling2D)                                        \n",
      "                                                                 \n",
      " dense_5 (Dense)             (None, 1)                 129       \n",
      "                                                                 \n",
      "=================================================================\n",
      "Total params: 641\n",
      "Trainable params: 641\n",
      "Non-trainable params: 0\n",
      "_________________________________________________________________\n"
     ]
    }
   ],
   "source": [
    "model.summary()"
   ]
  },
  {
   "cell_type": "code",
   "execution_count": 17,
   "id": "e2039ef1-d72b-44d0-b006-b693ddc976cf",
   "metadata": {},
   "outputs": [
    {
     "data": {
      "image/png": "[encoded data removed]",
      "text/plain": [
       "<IPython.core.display.Image object>"
      ]
     },
     "execution_count": 17,
     "metadata": {},
     "output_type": "execute_result"
    }
   ],
   "source": [
    "keras.utils.plot_model(model, show_shapes=True)"
   ]
  },
  {
   "cell_type": "code",
   "execution_count": 11,
   "id": "e62ca907-1924-407b-97fd-fa6204a1f2ed",
   "metadata": {},
   "outputs": [
    {
     "name": "stdout",
     "output_type": "stream",
     "text": [
      "Epoch 1/5\n",
      "2188/2188 [==============================] - 117s 53ms/step - loss: 0.5654 - accuracy: 0.7505 - val_loss: 0.5779 - val_accuracy: 0.7318\n",
      "Epoch 2/5\n",
      "2188/2188 [==============================] - 117s 54ms/step - loss: 0.5604 - accuracy: 0.7509 - val_loss: 0.5756 - val_accuracy: 0.7318\n",
      "Epoch 3/5\n",
      "2188/2188 [==============================] - 118s 54ms/step - loss: 0.5575 - accuracy: 0.7509 - val_loss: 0.5738 - val_accuracy: 0.7318\n",
      "Epoch 4/5\n",
      "2188/2188 [==============================] - 119s 54ms/step - loss: 0.5552 - accuracy: 0.7509 - val_loss: 0.5726 - val_accuracy: 0.7318\n",
      "Epoch 5/5\n",
      "2188/2188 [==============================] - 119s 54ms/step - loss: 0.5533 - accuracy: 0.7509 - val_loss: 0.5702 - val_accuracy: 0.7318\n"
     ]
    },
    {
     "data": {
      "text/plain": [
       "<keras.callbacks.History at 0x1f2965cf790>"
      ]
     },
     "execution_count": 11,
     "metadata": {},
     "output_type": "execute_result"
    }
   ],
   "source": [
    "model.compile(\n",
    "    optimizer=keras.optimizers.Adam(1e-3),\n",
    "    loss=\"binary_crossentropy\",\n",
    "    metrics=[\"accuracy\"],\n",
    ")\n",
    "model.fit(train_ds, epochs=5, validation_data=val_ds)"
   ]
  }
 ],
 "metadata": {
  "kernelspec": {
   "display_name": "Python 3 (ipykernel)",
   "language": "python",
   "name": "python3"
  },
  "language_info": {
   "codemirror_mode": {
    "name": "ipython",
    "version": 3
   },
   "file_extension": ".py",
   "mimetype": "text/x-python",
   "name": "python",
   "nbconvert_exporter": "python",
   "pygments_lexer": "ipython3",
   "version": "3.9.9"
  }
 },
 "nbformat": 4,
 "nbformat_minor": 5
}
