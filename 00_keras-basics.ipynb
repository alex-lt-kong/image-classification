{
 "cells": [
  {
   "cell_type": "code",
   "execution_count": 1,
   "id": "f89d5fbe-7f5f-4e3e-8b7b-722121113212",
   "metadata": {},
   "outputs": [],
   "source": [
    "from sklearn import metrics\n",
    "from sklearn.model_selection import train_test_split\n",
    "from tensorflow import keras\n",
    "from tensorflow.keras import layers\n",
    "# keras or tensorflow.keras? Long story short, one should use tensorflow.keras\n",
    "# if there isn't any backward-compatibility concern\n",
    "\n",
    "import numpy as np"
   ]
  },
  {
   "cell_type": "code",
   "execution_count": 2,
   "id": "18a92d4e-35a1-4dac-96cc-1bfe25785350",
   "metadata": {},
   "outputs": [
    {
     "data": {
      "text/plain": [
       "array([[  6.   , 148.   ,  72.   , ...,   0.627,  50.   ,   1.   ],\n",
       "       [  1.   ,  85.   ,  66.   , ...,   0.351,  31.   ,   0.   ],\n",
       "       [  8.   , 183.   ,  64.   , ...,   0.672,  32.   ,   1.   ],\n",
       "       ...,\n",
       "       [  5.   , 121.   ,  72.   , ...,   0.245,  30.   ,   0.   ],\n",
       "       [  1.   , 126.   ,  60.   , ...,   0.349,  47.   ,   1.   ],\n",
       "       [  1.   ,  93.   ,  70.   , ...,   0.315,  23.   ,   0.   ]])"
      ]
     },
     "execution_count": 2,
     "metadata": {},
     "output_type": "execute_result"
    }
   ],
   "source": [
    "# load the dataset\n",
    "dataset = np.loadtxt('files/pima-indians-diabetes.csv', delimiter=',', skiprows=1)\n",
    "# 1st row is header\n",
    "dataset"
   ]
  },
  {
   "cell_type": "code",
   "execution_count": 3,
   "id": "45373fdb-8d80-4541-86a5-2e2cd69abf57",
   "metadata": {},
   "outputs": [],
   "source": [
    "X = dataset[:,0:8]\n",
    "y = dataset[:,8]"
   ]
  },
  {
   "cell_type": "code",
   "execution_count": 4,
   "id": "16a7f0a5-b683-4022-bc60-f9cf5e674e8c",
   "metadata": {},
   "outputs": [
    {
     "data": {
      "text/plain": [
       "array([[  6.   , 148.   ,  72.   , ...,  33.6  ,   0.627,  50.   ],\n",
       "       [  1.   ,  85.   ,  66.   , ...,  26.6  ,   0.351,  31.   ],\n",
       "       [  8.   , 183.   ,  64.   , ...,  23.3  ,   0.672,  32.   ],\n",
       "       ...,\n",
       "       [  5.   , 121.   ,  72.   , ...,  26.2  ,   0.245,  30.   ],\n",
       "       [  1.   , 126.   ,  60.   , ...,  30.1  ,   0.349,  47.   ],\n",
       "       [  1.   ,  93.   ,  70.   , ...,  30.4  ,   0.315,  23.   ]])"
      ]
     },
     "execution_count": 4,
     "metadata": {},
     "output_type": "execute_result"
    }
   ],
   "source": [
    "X"
   ]
  },
  {
   "cell_type": "code",
   "execution_count": 5,
   "id": "6093fb4b-10f9-43a9-8f3e-a76d1b429dea",
   "metadata": {},
   "outputs": [
    {
     "data": {
      "text/plain": [
       "768"
      ]
     },
     "execution_count": 5,
     "metadata": {},
     "output_type": "execute_result"
    }
   ],
   "source": [
    "len(y)"
   ]
  },
  {
   "cell_type": "code",
   "execution_count": 6,
   "id": "6ef2d12c-f539-4d6b-9556-f05009c2836a",
   "metadata": {},
   "outputs": [],
   "source": [
    "X_train, X_test, y_train, y_test = train_test_split(X, y, test_size=0.33, random_state=42)"
   ]
  },
  {
   "cell_type": "markdown",
   "id": "704a9037-2607-4a2f-9373-1953948e9222",
   "metadata": {},
   "source": [
    "In Keras, there are two ways to create a model, the `Sequential model` and the `Functional API`.\n",
    "\n",
    "* The `Sequential model` is a bit more intuitive in the sense that it considers a neural network as a stack of layers where each layer has exactly one input tensor and one output tensor, which is the usual way a neural work is presented;\n",
    "* `Function API` is more flexible than `Sequential model` because it can handle models with non-linear topology, shared layers, and even multiple inputs or outputs.\n",
    "\n",
    "Although `Sequential model` should be enough for this project, for the sake of accommodating possible future needs, `Functional API` approach is used."
   ]
  },
  {
   "cell_type": "code",
   "execution_count": 7,
   "id": "e6c75cd7-189e-480c-a13e-c27e4cd34fe2",
   "metadata": {},
   "outputs": [
    {
     "name": "stdout",
     "output_type": "stream",
     "text": [
      "Model: \"model\"\n",
      "_________________________________________________________________\n",
      " Layer (type)                Output Shape              Param #   \n",
      "=================================================================\n",
      " input_1 (InputLayer)        [(None, 8)]               0         \n",
      "                                                                 \n",
      " dense (Dense)               (None, 100)               900       \n",
      "                                                                 \n",
      " dense_1 (Dense)             (None, 1)                 101       \n",
      "                                                                 \n",
      "=================================================================\n",
      "Total params: 1,001\n",
      "Trainable params: 1,001\n",
      "Non-trainable params: 0\n",
      "_________________________________________________________________\n"
     ]
    }
   ],
   "source": [
    "visible = layers.Input(shape=(8,))\n",
    "hidden = layers.Dense(100, activation='relu')(visible)\n",
    "output = layers.Dense(1, activation='sigmoid')(hidden)\n",
    "model = keras.Model(inputs=visible, outputs=output)\n",
    "model.summary()"
   ]
  },
  {
   "cell_type": "code",
   "execution_count": 8,
   "id": "e4cc7aa4-0d35-47ac-9e50-81b32bd70998",
   "metadata": {},
   "outputs": [
    {
     "data": {
      "image/png": "[encoded data removed]",
      "text/plain": [
       "<IPython.core.display.Image object>"
      ]
     },
     "execution_count": 8,
     "metadata": {},
     "output_type": "execute_result"
    }
   ],
   "source": [
    "keras.utils.plot_model(model, show_shapes=True)"
   ]
  },
  {
   "cell_type": "code",
   "execution_count": 9,
   "id": "e554af2b-1430-4070-9857-38f984d82b9f",
   "metadata": {},
   "outputs": [],
   "source": [
    "model.compile(loss='binary_crossentropy', optimizer='adam', metrics=['accuracy'])"
   ]
  },
  {
   "cell_type": "code",
   "execution_count": 10,
   "id": "43f4d563-ac92-43f5-bcaa-4e32541f8e5f",
   "metadata": {},
   "outputs": [
    {
     "name": "stdout",
     "output_type": "stream",
     "text": [
      "Epoch 1/50\n",
      "52/52 [==============================] - 1s 3ms/step - loss: 3.0657 - accuracy: 0.5409\n",
      "Epoch 2/50\n",
      "52/52 [==============================] - 0s 3ms/step - loss: 0.9700 - accuracy: 0.6031\n",
      "Epoch 3/50\n",
      "52/52 [==============================] - 0s 3ms/step - loss: 0.8008 - accuracy: 0.6265\n",
      "Epoch 4/50\n",
      "52/52 [==============================] - 0s 3ms/step - loss: 0.7495 - accuracy: 0.6226\n",
      "Epoch 5/50\n",
      "52/52 [==============================] - 0s 3ms/step - loss: 0.7415 - accuracy: 0.6245\n",
      "Epoch 6/50\n",
      "52/52 [==============================] - 0s 3ms/step - loss: 0.7906 - accuracy: 0.6148\n",
      "Epoch 7/50\n",
      "52/52 [==============================] - 0s 3ms/step - loss: 0.6371 - accuracy: 0.6595\n",
      "Epoch 8/50\n",
      "52/52 [==============================] - 0s 3ms/step - loss: 0.7671 - accuracy: 0.6148\n",
      "Epoch 9/50\n",
      "52/52 [==============================] - 0s 3ms/step - loss: 0.6883 - accuracy: 0.6634\n",
      "Epoch 10/50\n",
      "52/52 [==============================] - 0s 3ms/step - loss: 0.6809 - accuracy: 0.6576\n",
      "Epoch 11/50\n",
      "52/52 [==============================] - 0s 3ms/step - loss: 0.8040 - accuracy: 0.6518\n",
      "Epoch 12/50\n",
      "52/52 [==============================] - 0s 3ms/step - loss: 0.6196 - accuracy: 0.6887\n",
      "Epoch 13/50\n",
      "52/52 [==============================] - 0s 3ms/step - loss: 0.6361 - accuracy: 0.6770\n",
      "Epoch 14/50\n",
      "52/52 [==============================] - 0s 3ms/step - loss: 0.5949 - accuracy: 0.6829\n",
      "Epoch 15/50\n",
      "52/52 [==============================] - 0s 3ms/step - loss: 0.6331 - accuracy: 0.6946\n",
      "Epoch 16/50\n",
      "52/52 [==============================] - 0s 3ms/step - loss: 0.6606 - accuracy: 0.6887\n",
      "Epoch 17/50\n",
      "52/52 [==============================] - 0s 3ms/step - loss: 0.5980 - accuracy: 0.7004\n",
      "Epoch 18/50\n",
      "52/52 [==============================] - 0s 3ms/step - loss: 0.7216 - accuracy: 0.6479\n",
      "Epoch 19/50\n",
      "52/52 [==============================] - 0s 3ms/step - loss: 0.6776 - accuracy: 0.6732\n",
      "Epoch 20/50\n",
      "52/52 [==============================] - 0s 3ms/step - loss: 0.5847 - accuracy: 0.7374\n",
      "Epoch 21/50\n",
      "52/52 [==============================] - 0s 3ms/step - loss: 0.6422 - accuracy: 0.7082\n",
      "Epoch 22/50\n",
      "52/52 [==============================] - 0s 3ms/step - loss: 0.5845 - accuracy: 0.7004\n",
      "Epoch 23/50\n",
      "52/52 [==============================] - 0s 3ms/step - loss: 0.6691 - accuracy: 0.6946\n",
      "Epoch 24/50\n",
      "52/52 [==============================] - 0s 3ms/step - loss: 0.5850 - accuracy: 0.7121\n",
      "Epoch 25/50\n",
      "52/52 [==============================] - 0s 3ms/step - loss: 0.5771 - accuracy: 0.7121\n",
      "Epoch 26/50\n",
      "52/52 [==============================] - 0s 3ms/step - loss: 0.5895 - accuracy: 0.7062\n",
      "Epoch 27/50\n",
      "52/52 [==============================] - 0s 3ms/step - loss: 0.6491 - accuracy: 0.6848\n",
      "Epoch 28/50\n",
      "52/52 [==============================] - 0s 3ms/step - loss: 0.5870 - accuracy: 0.7082\n",
      "Epoch 29/50\n",
      "52/52 [==============================] - 0s 3ms/step - loss: 0.6508 - accuracy: 0.7023\n",
      "Epoch 30/50\n",
      "52/52 [==============================] - 0s 3ms/step - loss: 0.6579 - accuracy: 0.7004\n",
      "Epoch 31/50\n",
      "52/52 [==============================] - 0s 3ms/step - loss: 0.6438 - accuracy: 0.6907\n",
      "Epoch 32/50\n",
      "52/52 [==============================] - 0s 3ms/step - loss: 0.5770 - accuracy: 0.7101\n",
      "Epoch 33/50\n",
      "52/52 [==============================] - 0s 3ms/step - loss: 0.5966 - accuracy: 0.6965\n",
      "Epoch 34/50\n",
      "52/52 [==============================] - 0s 3ms/step - loss: 0.5450 - accuracy: 0.7354\n",
      "Epoch 35/50\n",
      "52/52 [==============================] - 0s 3ms/step - loss: 0.6491 - accuracy: 0.6770\n",
      "Epoch 36/50\n",
      "52/52 [==============================] - 0s 3ms/step - loss: 0.5396 - accuracy: 0.7023\n",
      "Epoch 37/50\n",
      "52/52 [==============================] - 0s 3ms/step - loss: 0.5937 - accuracy: 0.7140\n",
      "Epoch 38/50\n",
      "52/52 [==============================] - 0s 3ms/step - loss: 0.5177 - accuracy: 0.7529\n",
      "Epoch 39/50\n",
      "52/52 [==============================] - 0s 3ms/step - loss: 0.6015 - accuracy: 0.7315\n",
      "Epoch 40/50\n",
      "52/52 [==============================] - 0s 3ms/step - loss: 0.5265 - accuracy: 0.7490\n",
      "Epoch 41/50\n",
      "52/52 [==============================] - 0s 3ms/step - loss: 0.5519 - accuracy: 0.7412\n",
      "Epoch 42/50\n",
      "52/52 [==============================] - 0s 3ms/step - loss: 0.5507 - accuracy: 0.7257\n",
      "Epoch 43/50\n",
      "52/52 [==============================] - 0s 3ms/step - loss: 0.6611 - accuracy: 0.6693\n",
      "Epoch 44/50\n",
      "52/52 [==============================] - 0s 3ms/step - loss: 0.7146 - accuracy: 0.6887\n",
      "Epoch 45/50\n",
      "52/52 [==============================] - 0s 3ms/step - loss: 0.6262 - accuracy: 0.7062\n",
      "Epoch 46/50\n",
      "52/52 [==============================] - 0s 3ms/step - loss: 0.5696 - accuracy: 0.7160\n",
      "Epoch 47/50\n",
      "52/52 [==============================] - 0s 3ms/step - loss: 0.5587 - accuracy: 0.7296\n",
      "Epoch 48/50\n",
      "52/52 [==============================] - 0s 3ms/step - loss: 0.5319 - accuracy: 0.7471\n",
      "Epoch 49/50\n",
      "52/52 [==============================] - 0s 3ms/step - loss: 0.5474 - accuracy: 0.7354\n",
      "Epoch 50/50\n",
      "52/52 [==============================] - 0s 3ms/step - loss: 0.5147 - accuracy: 0.7393\n"
     ]
    },
    {
     "data": {
      "text/plain": [
       "<keras.callbacks.History at 0x22e6053ca00>"
      ]
     },
     "execution_count": 10,
     "metadata": {},
     "output_type": "execute_result"
    }
   ],
   "source": [
    "# fit the keras model on the dataset\n",
    "model.fit(X_train, y_train, epochs=50, batch_size=10)"
   ]
  },
  {
   "cell_type": "code",
   "execution_count": 11,
   "id": "89b4f648-d78e-4fc7-b1ed-21a01afb9b0c",
   "metadata": {},
   "outputs": [
    {
     "name": "stdout",
     "output_type": "stream",
     "text": [
      "Confusion matrix:\n",
      "[[294  38]\n",
      " [ 73 109]]\n"
     ]
    },
    {
     "data": {
      "image/png": "[encoded data removed]",
      "text/plain": [
       "<Figure size 432x288 with 2 Axes>"
      ]
     },
     "metadata": {
      "needs_background": "light"
     },
     "output_type": "display_data"
    }
   ],
   "source": [
    "y_pred = (model.predict(X_train) > 0.5).astype(int)\n",
    "disp = metrics.ConfusionMatrixDisplay.from_predictions(y_true=y_train, y_pred=y_pred)\n",
    "disp.figure_.suptitle(\"Confusion Matrix\")\n",
    "print(f\"Confusion matrix:\\n{disp.confusion_matrix}\")"
   ]
  },
  {
   "cell_type": "code",
   "execution_count": 12,
   "id": "39159424-56bc-4252-913c-e0a950e74ad7",
   "metadata": {},
   "outputs": [
    {
     "name": "stdout",
     "output_type": "stream",
     "text": [
      "Confusion matrix:\n",
      "[[147  21]\n",
      " [ 39  47]]\n",
      "Balanced accuracy: 71.08%\n"
     ]
    },
    {
     "data": {
      "image/png": "[encoded data removed]",
      "text/plain": [
       "<Figure size 432x288 with 2 Axes>"
      ]
     },
     "metadata": {
      "needs_background": "light"
     },
     "output_type": "display_data"
    }
   ],
   "source": [
    "y_pred = (model.predict(X_test) > 0.5).astype(int)\n",
    "disp = metrics.ConfusionMatrixDisplay.from_predictions(y_true=y_test, y_pred=y_pred)\n",
    "disp.figure_.suptitle(\"Confusion Matrix\")\n",
    "print(f\"Confusion matrix:\\n{disp.confusion_matrix}\")\n",
    "tn, fp, fn, tp = metrics.confusion_matrix(y_true=y_test, y_pred=y_pred).ravel()\n",
    "accuracy = (tn + tp) / (tn + fp + fn + tp)\n",
    "tpr = tp / (tp + fn)\n",
    "fpr = fp / (fp + tn)\n",
    "tnr = tn / (tn + fp)\n",
    "balanced_accuracy = (tpr + tnr) / 2\n",
    "print(f\"Balanced accuracy: {balanced_accuracy*100:.2f}%\")"
   ]
  },
  {
   "cell_type": "code",
   "execution_count": 13,
   "id": "d0e019c7-d1e5-4ee6-9626-f2caba73beb0",
   "metadata": {},
   "outputs": [],
   "source": [
    "from sklearn.neural_network import MLPClassifier as mlpc\n",
    "\n",
    "clf = mlpc(hidden_layer_sizes=(100, ))\n",
    "# Keras allows users to specify the activation function of the output layer.\n",
    "# However, you canNOT set this parameter in scikit-learn, though you can check\n",
    "# the automatically selected activation function via the out_activation_ attribute of\n",
    "# a model.\n",
    "# https://stackoverflow.com/questions/55337843/what-kind-of-activation-is-used-by-scikitlearns-mlpclasssifier-in-output-layer\n",
    "clf.fit(X_train, y_train)\n",
    "\n",
    "y_pred = clf.predict(X_test)"
   ]
  },
  {
   "cell_type": "code",
   "execution_count": 14,
   "id": "45ad019d-5a96-4494-a0e0-bf9549bbc749",
   "metadata": {},
   "outputs": [
    {
     "name": "stdout",
     "output_type": "stream",
     "text": [
      "Confusion matrix:\n",
      "[[121  47]\n",
      " [ 35  51]]\n"
     ]
    },
    {
     "data": {
      "image/png": "[encoded data removed]",
      "text/plain": [
       "<Figure size 432x288 with 2 Axes>"
      ]
     },
     "metadata": {
      "needs_background": "light"
     },
     "output_type": "display_data"
    }
   ],
   "source": [
    "disp = metrics.ConfusionMatrixDisplay.from_predictions(y_test, y_pred)\n",
    "disp.figure_.suptitle(\"Confusion Matrix\")\n",
    "print(f\"Confusion matrix:\\n{disp.confusion_matrix}\")"
   ]
  },
  {
   "cell_type": "code",
   "execution_count": 15,
   "id": "3dfb8618-44d7-44a4-a09c-367c4b9aec8f",
   "metadata": {},
   "outputs": [
    {
     "name": "stdout",
     "output_type": "stream",
     "text": [
      "Balanced accuracy: 65.66%\n"
     ]
    }
   ],
   "source": [
    "tn, fp, fn, tp = metrics.confusion_matrix(y_true=y_test, y_pred=y_pred).ravel()\n",
    "accuracy = (tn + tp) / (tn + fp + fn + tp)\n",
    "tpr = tp / (tp + fn)\n",
    "fpr = fp / (fp + tn)\n",
    "tnr = tn / (tn + fp)\n",
    "balanced_accuracy = (tpr + tnr) / 2\n",
    "print(f\"Balanced accuracy: {balanced_accuracy*100:.2f}%\")"
   ]
  }
 ],
 "metadata": {
  "kernelspec": {
   "display_name": "Python 3 (ipykernel)",
   "language": "python",
   "name": "python3"
  },
  "language_info": {
   "codemirror_mode": {
    "name": "ipython",
    "version": 3
   },
   "file_extension": ".py",
   "mimetype": "text/x-python",
   "name": "python",
   "nbconvert_exporter": "python",
   "pygments_lexer": "ipython3",
   "version": "3.9.9"
  }
 },
 "nbformat": 4,
 "nbformat_minor": 5
}
