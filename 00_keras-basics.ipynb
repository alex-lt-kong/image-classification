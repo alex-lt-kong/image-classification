{
 "cells": [
  {
   "cell_type": "code",
   "execution_count": 18,
   "id": "f89d5fbe-7f5f-4e3e-8b7b-722121113212",
   "metadata": {},
   "outputs": [],
   "source": [
    "from keras.layers import Input\n",
    "from keras.layers import Dense\n",
    "from keras.models import Model\n",
    "from sklearn import metrics\n",
    "from sklearn.model_selection import train_test_split\n",
    "from tensorflow import keras\n",
    "\n",
    "import numpy as np"
   ]
  },
  {
   "cell_type": "code",
   "execution_count": 2,
   "id": "18a92d4e-35a1-4dac-96cc-1bfe25785350",
   "metadata": {},
   "outputs": [
    {
     "data": {
      "text/plain": [
       "array([[  6.   , 148.   ,  72.   , ...,   0.627,  50.   ,   1.   ],\n",
       "       [  1.   ,  85.   ,  66.   , ...,   0.351,  31.   ,   0.   ],\n",
       "       [  8.   , 183.   ,  64.   , ...,   0.672,  32.   ,   1.   ],\n",
       "       ...,\n",
       "       [  5.   , 121.   ,  72.   , ...,   0.245,  30.   ,   0.   ],\n",
       "       [  1.   , 126.   ,  60.   , ...,   0.349,  47.   ,   1.   ],\n",
       "       [  1.   ,  93.   ,  70.   , ...,   0.315,  23.   ,   0.   ]])"
      ]
     },
     "execution_count": 2,
     "metadata": {},
     "output_type": "execute_result"
    }
   ],
   "source": [
    "# load the dataset\n",
    "dataset = np.loadtxt('files/pima-indians-diabetes.csv', delimiter=',', skiprows=1)\n",
    "# 1st row is header\n",
    "dataset"
   ]
  },
  {
   "cell_type": "code",
   "execution_count": 3,
   "id": "45373fdb-8d80-4541-86a5-2e2cd69abf57",
   "metadata": {},
   "outputs": [],
   "source": [
    "X = dataset[:,0:8]\n",
    "y = dataset[:,8]"
   ]
  },
  {
   "cell_type": "code",
   "execution_count": 4,
   "id": "16a7f0a5-b683-4022-bc60-f9cf5e674e8c",
   "metadata": {},
   "outputs": [
    {
     "data": {
      "text/plain": [
       "array([[  6.   , 148.   ,  72.   , ...,  33.6  ,   0.627,  50.   ],\n",
       "       [  1.   ,  85.   ,  66.   , ...,  26.6  ,   0.351,  31.   ],\n",
       "       [  8.   , 183.   ,  64.   , ...,  23.3  ,   0.672,  32.   ],\n",
       "       ...,\n",
       "       [  5.   , 121.   ,  72.   , ...,  26.2  ,   0.245,  30.   ],\n",
       "       [  1.   , 126.   ,  60.   , ...,  30.1  ,   0.349,  47.   ],\n",
       "       [  1.   ,  93.   ,  70.   , ...,  30.4  ,   0.315,  23.   ]])"
      ]
     },
     "execution_count": 4,
     "metadata": {},
     "output_type": "execute_result"
    }
   ],
   "source": [
    "X"
   ]
  },
  {
   "cell_type": "code",
   "execution_count": 5,
   "id": "6093fb4b-10f9-43a9-8f3e-a76d1b429dea",
   "metadata": {},
   "outputs": [
    {
     "data": {
      "text/plain": [
       "768"
      ]
     },
     "execution_count": 5,
     "metadata": {},
     "output_type": "execute_result"
    }
   ],
   "source": [
    "len(y)"
   ]
  },
  {
   "cell_type": "code",
   "execution_count": 6,
   "id": "6ef2d12c-f539-4d6b-9556-f05009c2836a",
   "metadata": {},
   "outputs": [],
   "source": [
    "X_train, X_test, y_train, y_test = train_test_split(X, y, test_size=0.33, random_state=42)"
   ]
  },
  {
   "cell_type": "markdown",
   "id": "704a9037-2607-4a2f-9373-1953948e9222",
   "metadata": {},
   "source": [
    "In Keras, there are two ways to create a model, the `Sequential model` and the `Functional API`.\n",
    "\n",
    "* The `Sequential model` is a bit more intuitive in the sense that it considers a neural network as a stack of layers where each layer has exactly one input tensor and one output tensor, which is the usual way a neural work is presented;\n",
    "* `Function API` is more flexible than `Sequential model` because it can handle models with non-linear topology, shared layers, and even multiple inputs or outputs.\n",
    "\n",
    "Although `Sequential model` should be enough for this project, for the sake of accommodating possible future needs, `Functional API` approach is used."
   ]
  },
  {
   "cell_type": "code",
   "execution_count": 33,
   "id": "e6c75cd7-189e-480c-a13e-c27e4cd34fe2",
   "metadata": {},
   "outputs": [
    {
     "name": "stdout",
     "output_type": "stream",
     "text": [
      "Model: \"model_6\"\n",
      "_________________________________________________________________\n",
      " Layer (type)                Output Shape              Param #   \n",
      "=================================================================\n",
      " input_9 (InputLayer)        [(None, 8)]               0         \n",
      "                                                                 \n",
      " dense_15 (Dense)            (None, 10)                90        \n",
      "                                                                 \n",
      " dense_16 (Dense)            (None, 20)                220       \n",
      "                                                                 \n",
      " dense_17 (Dense)            (None, 10)                210       \n",
      "                                                                 \n",
      " dense_18 (Dense)            (None, 1)                 11        \n",
      "                                                                 \n",
      "=================================================================\n",
      "Total params: 531\n",
      "Trainable params: 531\n",
      "Non-trainable params: 0\n",
      "_________________________________________________________________\n"
     ]
    }
   ],
   "source": [
    "visible = Input(shape=(8,))\n",
    "hidden1 = Dense(10, activation='relu')(visible)\n",
    "hidden2 = Dense(20, activation='relu')(hidden1)\n",
    "hidden3 = Dense(10, activation='relu')(hidden2)\n",
    "output = Dense(1, activation='sigmoid')(hidden3)\n",
    "model = Model(inputs=visible, outputs=output)\n",
    "model.summary()"
   ]
  },
  {
   "cell_type": "code",
   "execution_count": 34,
   "id": "e4cc7aa4-0d35-47ac-9e50-81b32bd70998",
   "metadata": {},
   "outputs": [
    {
     "data": {
      "image/png": "[encoded data removed]",
      "text/plain": [
       "<IPython.core.display.Image object>"
      ]
     },
     "execution_count": 34,
     "metadata": {},
     "output_type": "execute_result"
    }
   ],
   "source": [
    "keras.utils.plot_model(model, show_shapes=True)"
   ]
  },
  {
   "cell_type": "code",
   "execution_count": 35,
   "id": "e554af2b-1430-4070-9857-38f984d82b9f",
   "metadata": {},
   "outputs": [],
   "source": [
    "model.compile(loss='binary_crossentropy', optimizer='adam', metrics=['accuracy'])"
   ]
  },
  {
   "cell_type": "code",
   "execution_count": 36,
   "id": "43f4d563-ac92-43f5-bcaa-4e32541f8e5f",
   "metadata": {},
   "outputs": [
    {
     "name": "stdout",
     "output_type": "stream",
     "text": [
      "Epoch 1/50\n",
      "52/52 [==============================] - 1s 4ms/step - loss: 2.6769 - accuracy: 0.5214\n",
      "Epoch 2/50\n",
      "52/52 [==============================] - 0s 4ms/step - loss: 0.9937 - accuracy: 0.5953\n",
      "Epoch 3/50\n",
      "52/52 [==============================] - 0s 4ms/step - loss: 0.6864 - accuracy: 0.6420\n",
      "Epoch 4/50\n",
      "52/52 [==============================] - 0s 3ms/step - loss: 0.6728 - accuracy: 0.6401\n",
      "Epoch 5/50\n",
      "52/52 [==============================] - 0s 3ms/step - loss: 0.6805 - accuracy: 0.6459\n",
      "Epoch 6/50\n",
      "52/52 [==============================] - 0s 4ms/step - loss: 0.6581 - accuracy: 0.6381\n",
      "Epoch 7/50\n",
      "52/52 [==============================] - 0s 4ms/step - loss: 0.6760 - accuracy: 0.6440\n",
      "Epoch 8/50\n",
      "52/52 [==============================] - 0s 3ms/step - loss: 0.6690 - accuracy: 0.6459\n",
      "Epoch 9/50\n",
      "52/52 [==============================] - 0s 3ms/step - loss: 0.6670 - accuracy: 0.6654\n",
      "Epoch 10/50\n",
      "52/52 [==============================] - 0s 4ms/step - loss: 0.6226 - accuracy: 0.6965\n",
      "Epoch 11/50\n",
      "52/52 [==============================] - 0s 3ms/step - loss: 0.6429 - accuracy: 0.6790\n",
      "Epoch 12/50\n",
      "52/52 [==============================] - 0s 4ms/step - loss: 0.6538 - accuracy: 0.6693\n",
      "Epoch 13/50\n",
      "52/52 [==============================] - 0s 3ms/step - loss: 0.6332 - accuracy: 0.6732\n",
      "Epoch 14/50\n",
      "52/52 [==============================] - 0s 4ms/step - loss: 0.6010 - accuracy: 0.7082\n",
      "Epoch 15/50\n",
      "52/52 [==============================] - 0s 3ms/step - loss: 0.6071 - accuracy: 0.6946\n",
      "Epoch 16/50\n",
      "52/52 [==============================] - 0s 3ms/step - loss: 0.6659 - accuracy: 0.7062\n",
      "Epoch 17/50\n",
      "52/52 [==============================] - 0s 4ms/step - loss: 0.6222 - accuracy: 0.6868\n",
      "Epoch 18/50\n",
      "52/52 [==============================] - 0s 3ms/step - loss: 0.6411 - accuracy: 0.6868\n",
      "Epoch 19/50\n",
      "52/52 [==============================] - 0s 4ms/step - loss: 0.6794 - accuracy: 0.6887\n",
      "Epoch 20/50\n",
      "52/52 [==============================] - 0s 3ms/step - loss: 0.5812 - accuracy: 0.7082\n",
      "Epoch 21/50\n",
      "52/52 [==============================] - 0s 3ms/step - loss: 0.6197 - accuracy: 0.6848\n",
      "Epoch 22/50\n",
      "52/52 [==============================] - 0s 4ms/step - loss: 0.6057 - accuracy: 0.7121\n",
      "Epoch 23/50\n",
      "52/52 [==============================] - 0s 3ms/step - loss: 0.5989 - accuracy: 0.6848\n",
      "Epoch 24/50\n",
      "52/52 [==============================] - 0s 3ms/step - loss: 0.5943 - accuracy: 0.6946\n",
      "Epoch 25/50\n",
      "52/52 [==============================] - 0s 4ms/step - loss: 0.5868 - accuracy: 0.7023\n",
      "Epoch 26/50\n",
      "52/52 [==============================] - 0s 3ms/step - loss: 0.5959 - accuracy: 0.7004\n",
      "Epoch 27/50\n",
      "52/52 [==============================] - 0s 4ms/step - loss: 0.5687 - accuracy: 0.7160\n",
      "Epoch 28/50\n",
      "52/52 [==============================] - 0s 3ms/step - loss: 0.5833 - accuracy: 0.7082\n",
      "Epoch 29/50\n",
      "52/52 [==============================] - 0s 4ms/step - loss: 0.5842 - accuracy: 0.7198\n",
      "Epoch 30/50\n",
      "52/52 [==============================] - 0s 3ms/step - loss: 0.5896 - accuracy: 0.7198\n",
      "Epoch 31/50\n",
      "52/52 [==============================] - 0s 3ms/step - loss: 0.6277 - accuracy: 0.7043\n",
      "Epoch 32/50\n",
      "52/52 [==============================] - 0s 3ms/step - loss: 0.5794 - accuracy: 0.7237\n",
      "Epoch 33/50\n",
      "52/52 [==============================] - 0s 3ms/step - loss: 0.5756 - accuracy: 0.7257\n",
      "Epoch 34/50\n",
      "52/52 [==============================] - 0s 3ms/step - loss: 0.5602 - accuracy: 0.7374\n",
      "Epoch 35/50\n",
      "52/52 [==============================] - 0s 3ms/step - loss: 0.5603 - accuracy: 0.7140\n",
      "Epoch 36/50\n",
      "52/52 [==============================] - 0s 4ms/step - loss: 0.5960 - accuracy: 0.6984\n",
      "Epoch 37/50\n",
      "52/52 [==============================] - 0s 3ms/step - loss: 0.6103 - accuracy: 0.6946\n",
      "Epoch 38/50\n",
      "52/52 [==============================] - 0s 4ms/step - loss: 0.5846 - accuracy: 0.7062\n",
      "Epoch 39/50\n",
      "52/52 [==============================] - 0s 3ms/step - loss: 0.6115 - accuracy: 0.7062\n",
      "Epoch 40/50\n",
      "52/52 [==============================] - 0s 3ms/step - loss: 0.5715 - accuracy: 0.7335\n",
      "Epoch 41/50\n",
      "52/52 [==============================] - 0s 4ms/step - loss: 0.5649 - accuracy: 0.7257\n",
      "Epoch 42/50\n",
      "52/52 [==============================] - 0s 3ms/step - loss: 0.5548 - accuracy: 0.7374\n",
      "Epoch 43/50\n",
      "52/52 [==============================] - 0s 3ms/step - loss: 0.5430 - accuracy: 0.7218\n",
      "Epoch 44/50\n",
      "52/52 [==============================] - 0s 4ms/step - loss: 0.5762 - accuracy: 0.7237\n",
      "Epoch 45/50\n",
      "52/52 [==============================] - 0s 3ms/step - loss: 0.5690 - accuracy: 0.7198\n",
      "Epoch 46/50\n",
      "52/52 [==============================] - 0s 4ms/step - loss: 0.5844 - accuracy: 0.6946\n",
      "Epoch 47/50\n",
      "52/52 [==============================] - 0s 4ms/step - loss: 0.5579 - accuracy: 0.7179\n",
      "Epoch 48/50\n",
      "52/52 [==============================] - 0s 3ms/step - loss: 0.5553 - accuracy: 0.7218\n",
      "Epoch 49/50\n",
      "52/52 [==============================] - 0s 3ms/step - loss: 0.5524 - accuracy: 0.7296\n",
      "Epoch 50/50\n",
      "52/52 [==============================] - 0s 4ms/step - loss: 0.5971 - accuracy: 0.7101\n"
     ]
    },
    {
     "data": {
      "text/plain": [
       "<keras.callbacks.History at 0x2aac60071c0>"
      ]
     },
     "execution_count": 36,
     "metadata": {},
     "output_type": "execute_result"
    }
   ],
   "source": [
    "# fit the keras model on the dataset\n",
    "model.fit(X_train, y_train, epochs=50, batch_size=10)"
   ]
  },
  {
   "cell_type": "code",
   "execution_count": 37,
   "id": "a8981291-ccef-420d-b27a-f6cae8a96fb2",
   "metadata": {},
   "outputs": [
    {
     "name": "stdout",
     "output_type": "stream",
     "text": [
      "17/17 [==============================] - 0s 2ms/step - loss: 0.5924 - accuracy: 0.7062\n",
      "8/8 [==============================] - 0s 3ms/step - loss: 0.6730 - accuracy: 0.6772\n",
      "Train accuracy: 70.62%, Test accuracy: 67.72%\n"
     ]
    }
   ],
   "source": [
    "# evaluate the keras model\n",
    "_, train_accuracy = model.evaluate(X_train, y_train)\n",
    "_, test_accuracy = model.evaluate(X_test, y_test)\n",
    "print(f'Train accuracy: {train_accuracy*100:.2f}%, Test accuracy: {test_accuracy*100:.2f}%')"
   ]
  },
  {
   "cell_type": "code",
   "execution_count": 38,
   "id": "89b4f648-d78e-4fc7-b1ed-21a01afb9b0c",
   "metadata": {},
   "outputs": [
    {
     "name": "stdout",
     "output_type": "stream",
     "text": [
      "Confusion matrix:\n",
      "[[320  12]\n",
      " [139  43]]\n"
     ]
    },
    {
     "data": {
      "image/png": "[encoded data removed]",
      "text/plain": [
       "<Figure size 432x288 with 2 Axes>"
      ]
     },
     "metadata": {
      "needs_background": "light"
     },
     "output_type": "display_data"
    }
   ],
   "source": [
    "y_pred = (model.predict(X_train) > 0.5).astype(int)\n",
    "disp = metrics.ConfusionMatrixDisplay.from_predictions(y_true=y_train, y_pred=y_pred)\n",
    "disp.figure_.suptitle(\"Confusion Matrix\")\n",
    "print(f\"Confusion matrix:\\n{disp.confusion_matrix}\")"
   ]
  },
  {
   "cell_type": "code",
   "execution_count": 39,
   "id": "39159424-56bc-4252-913c-e0a950e74ad7",
   "metadata": {},
   "outputs": [
    {
     "name": "stdout",
     "output_type": "stream",
     "text": [
      "Confusion matrix:\n",
      "[[156  12]\n",
      " [ 70  16]]\n"
     ]
    },
    {
     "data": {
      "image/png": "[encoded data removed]",
      "text/plain": [
       "<Figure size 432x288 with 2 Axes>"
      ]
     },
     "metadata": {
      "needs_background": "light"
     },
     "output_type": "display_data"
    }
   ],
   "source": [
    "y_pred = (model.predict(X_test) > 0.5).astype(int)\n",
    "disp = metrics.ConfusionMatrixDisplay.from_predictions(y_true=y_test, y_pred=y_pred)\n",
    "disp.figure_.suptitle(\"Confusion Matrix\")\n",
    "print(f\"Confusion matrix:\\n{disp.confusion_matrix}\")"
   ]
  }
 ],
 "metadata": {
  "kernelspec": {
   "display_name": "Python 3 (ipykernel)",
   "language": "python",
   "name": "python3"
  },
  "language_info": {
   "codemirror_mode": {
    "name": "ipython",
    "version": 3
   },
   "file_extension": ".py",
   "mimetype": "text/x-python",
   "name": "python",
   "nbconvert_exporter": "python",
   "pygments_lexer": "ipython3",
   "version": "3.9.9"
  }
 },
 "nbformat": 4,
 "nbformat_minor": 5
}
